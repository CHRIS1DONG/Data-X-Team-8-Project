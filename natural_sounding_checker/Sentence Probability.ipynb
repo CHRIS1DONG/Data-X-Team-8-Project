{
 "cells": [
  {
   "cell_type": "code",
   "execution_count": 1,
   "id": "a0c9dd14",
   "metadata": {},
   "outputs": [],
   "source": [
    "import torch\n",
    "import sys\n",
    "import numpy as np\n",
    " \n",
    "from transformers import GPT2Tokenizer, GPT2LMHeadModel\n",
    "# Load pre-trained model (weights)\n",
    "with torch.no_grad():\n",
    "        model = GPT2LMHeadModel.from_pretrained('gpt2')\n",
    "        model.eval()\n",
    "# Load pre-trained model tokenizer (vocabulary)\n",
    "tokenizer = GPT2Tokenizer.from_pretrained('gpt2')\n",
    " \n",
    "def score(sentence):\n",
    "    tokenize_input = tokenizer.encode(sentence)\n",
    "    tensor_input = torch.tensor([tokenize_input])\n",
    "    loss=model(tensor_input, labels=tensor_input)[0]\n",
    "    return np.exp(loss.detach().numpy())\n",
    " \n",
    "if __name__=='__main__':\n",
    "    for line in sys.stdin:\n",
    "        if line.strip() !='':\n",
    "            print(line.strip()+'\\t'+ str(score(line.strip())))\n",
    "        else:\n",
    "            break"
   ]
  },
  {
   "cell_type": "code",
   "execution_count": 2,
   "id": "63062bfe",
   "metadata": {},
   "outputs": [],
   "source": [
    "import pandas as pd\n",
    "df = pd.read_csv('formal_informal_data_50000.csv')"
   ]
  },
  {
   "cell_type": "code",
   "execution_count": 3,
   "id": "0330a64b",
   "metadata": {},
   "outputs": [],
   "source": [
    "df = df.sample(5000)"
   ]
  },
  {
   "cell_type": "code",
   "execution_count": null,
   "id": "08b5cf66",
   "metadata": {},
   "outputs": [],
   "source": []
  },
  {
   "cell_type": "code",
   "execution_count": 4,
   "id": "dcf8addb",
   "metadata": {},
   "outputs": [
    {
     "data": {
      "text/plain": [
       "10.488229"
      ]
     },
     "execution_count": 4,
     "metadata": {},
     "output_type": "execute_result"
    }
   ],
   "source": [
    "score('Thank you so much for the opportunity.')"
   ]
  },
  {
   "cell_type": "code",
   "execution_count": 5,
   "id": "f6605efc",
   "metadata": {},
   "outputs": [
    {
     "data": {
      "text/plain": [
       "78.39175"
      ]
     },
     "execution_count": 5,
     "metadata": {},
     "output_type": "execute_result"
    }
   ],
   "source": [
    "score('I thank u for this opportunity.')"
   ]
  },
  {
   "cell_type": "code",
   "execution_count": 6,
   "id": "f9c0ee54",
   "metadata": {},
   "outputs": [
    {
     "data": {
      "text/plain": [
       "29.42647"
      ]
     },
     "execution_count": 6,
     "metadata": {},
     "output_type": "execute_result"
    }
   ],
   "source": [
    "score('How is you doing?')"
   ]
  },
  {
   "cell_type": "code",
   "execution_count": 7,
   "id": "07a058d8",
   "metadata": {},
   "outputs": [
    {
     "data": {
      "text/plain": [
       "9.842655"
      ]
     },
     "execution_count": 7,
     "metadata": {},
     "output_type": "execute_result"
    }
   ],
   "source": [
    "score('How are you doing?')"
   ]
  },
  {
   "cell_type": "code",
   "execution_count": 8,
   "id": "8856c23d",
   "metadata": {},
   "outputs": [
    {
     "data": {
      "text/plain": [
       "514.2123"
      ]
     },
     "execution_count": 8,
     "metadata": {},
     "output_type": "execute_result"
    }
   ],
   "source": [
    "score('How is you doingtonki?')"
   ]
  },
  {
   "cell_type": "code",
   "execution_count": 9,
   "id": "0a51b8ed",
   "metadata": {},
   "outputs": [],
   "source": [
    "from transformers import GPT2LMHeadModel, GPT2Tokenizer\n",
    "import numpy as np \n",
    "\n",
    "\n",
    "model = GPT2LMHeadModel.from_pretrained('gpt2')\n",
    "tokenizer = GPT2Tokenizer.from_pretrained('gpt2')"
   ]
  },
  {
   "cell_type": "code",
   "execution_count": 10,
   "id": "4983ecf4",
   "metadata": {},
   "outputs": [
    {
     "name": "stdout",
     "output_type": "stream",
     "text": [
      "i would like to thank you mr chairman 122.30583\n",
      "i would liking to thanks you mr chair in 1183.766\n",
      "thnks chair 14135.237\n",
      "What a fortune to seeing you 629.4808\n"
     ]
    }
   ],
   "source": [
    "def score(tokens_tensor):\n",
    "    loss=model(tokens_tensor, labels=tokens_tensor)[0]\n",
    "    return np.exp(loss.cpu().detach().numpy())\n",
    "\n",
    "texts = ['i would like to thank you mr chairman', 'i would liking to thanks you mr chair in', 'thnks chair', 'What a fortune to seeing you']\n",
    "for text in texts:\n",
    "    tokens_tensor = tokenizer.encode( text, add_special_tokens=False, return_tensors=\"pt\")           \n",
    "    print (text, score(tokens_tensor))"
   ]
  },
  {
   "cell_type": "code",
   "execution_count": 11,
   "id": "cb756a15",
   "metadata": {},
   "outputs": [
    {
     "data": {
      "text/plain": [
       "nan"
      ]
     },
     "execution_count": 11,
     "metadata": {},
     "output_type": "execute_result"
    }
   ],
   "source": [
    "score(tokenizer.encode('hey', add_special_tokens=False, return_tensors=\"pt\"))"
   ]
  },
  {
   "cell_type": "code",
   "execution_count": 12,
   "id": "470edd74",
   "metadata": {},
   "outputs": [
    {
     "name": "stdout",
     "output_type": "stream",
     "text": [
      "Wall time: 7min\n"
     ]
    }
   ],
   "source": [
    "%%time\n",
    "df['scores'] = df['text'].apply(lambda x: score(tokenizer.encode(x, add_special_tokens=False, return_tensors=\"pt\")))"
   ]
  },
  {
   "cell_type": "code",
   "execution_count": 13,
   "id": "acad4187",
   "metadata": {},
   "outputs": [
    {
     "data": {
      "text/plain": [
       "<AxesSubplot:>"
      ]
     },
     "execution_count": 13,
     "metadata": {},
     "output_type": "execute_result"
    },
    {
     "data": {
      "image/png": "[encoded data removed]",
      "text/plain": [
       "<Figure size 432x288 with 1 Axes>"
      ]
     },
     "metadata": {
      "needs_background": "light"
     },
     "output_type": "display_data"
    }
   ],
   "source": [
    "df[df['scores'] < 3000]['scores'].hist(bins=30)"
   ]
  },
  {
   "cell_type": "code",
   "execution_count": 23,
   "id": "6c1405ba",
   "metadata": {},
   "outputs": [
    {
     "data": {
      "text/html": [
       "<div>\n",
       "<style scoped>\n",
       "    .dataframe tbody tr th:only-of-type {\n",
       "        vertical-align: middle;\n",
       "    }\n",
       "\n",
       "    .dataframe tbody tr th {\n",
       "        vertical-align: top;\n",
       "    }\n",
       "\n",
       "    .dataframe thead th {\n",
       "        text-align: right;\n",
       "    }\n",
       "</style>\n",
       "<table border=\"1\" class=\"dataframe\">\n",
       "  <thead>\n",
       "    <tr style=\"text-align: right;\">\n",
       "      <th></th>\n",
       "      <th>text</th>\n",
       "      <th>label</th>\n",
       "      <th>scores</th>\n",
       "    </tr>\n",
       "  </thead>\n",
       "  <tbody>\n",
       "    <tr>\n",
       "      <th>11440</th>\n",
       "      <td>i would say cat stevens..the cat and the cradl...</td>\n",
       "      <td>0</td>\n",
       "      <td>436.452271</td>\n",
       "    </tr>\n",
       "    <tr>\n",
       "      <th>13484</th>\n",
       "      <td>maps by the yeah yeah yeahs</td>\n",
       "      <td>1</td>\n",
       "      <td>480.917145</td>\n",
       "    </tr>\n",
       "    <tr>\n",
       "      <th>21542</th>\n",
       "      <td>i love high school musical too!!!!!!</td>\n",
       "      <td>1</td>\n",
       "      <td>708.377686</td>\n",
       "    </tr>\n",
       "    <tr>\n",
       "      <th>39775</th>\n",
       "      <td>OMG!~* i loveee that movie soo much!</td>\n",
       "      <td>1</td>\n",
       "      <td>390.960297</td>\n",
       "    </tr>\n",
       "    <tr>\n",
       "      <th>43716</th>\n",
       "      <td>Song is Tell Me by The Groove Theory</td>\n",
       "      <td>1</td>\n",
       "      <td>288.339172</td>\n",
       "    </tr>\n",
       "  </tbody>\n",
       "</table>\n",
       "</div>"
      ],
      "text/plain": [
       "                                                    text  label      scores\n",
       "11440  i would say cat stevens..the cat and the cradl...      0  436.452271\n",
       "13484                        maps by the yeah yeah yeahs      1  480.917145\n",
       "21542               i love high school musical too!!!!!!      1  708.377686\n",
       "39775               OMG!~* i loveee that movie soo much!      1  390.960297\n",
       "43716               Song is Tell Me by The Groove Theory      1  288.339172"
      ]
     },
     "execution_count": 23,
     "metadata": {},
     "output_type": "execute_result"
    }
   ],
   "source": [
    "df[df['scores'] > 200].sample(5)"
   ]
  },
  {
   "cell_type": "code",
   "execution_count": 22,
   "id": "c022c2e2",
   "metadata": {},
   "outputs": [
    {
     "data": {
      "text/html": [
       "<div>\n",
       "<style scoped>\n",
       "    .dataframe tbody tr th:only-of-type {\n",
       "        vertical-align: middle;\n",
       "    }\n",
       "\n",
       "    .dataframe tbody tr th {\n",
       "        vertical-align: top;\n",
       "    }\n",
       "\n",
       "    .dataframe thead th {\n",
       "        text-align: right;\n",
       "    }\n",
       "</style>\n",
       "<table border=\"1\" class=\"dataframe\">\n",
       "  <thead>\n",
       "    <tr style=\"text-align: right;\">\n",
       "      <th></th>\n",
       "      <th>text</th>\n",
       "      <th>label</th>\n",
       "      <th>scores</th>\n",
       "    </tr>\n",
       "  </thead>\n",
       "  <tbody>\n",
       "    <tr>\n",
       "      <th>48097</th>\n",
       "      <td>No, I did not know that!</td>\n",
       "      <td>1</td>\n",
       "      <td>16.243011</td>\n",
       "    </tr>\n",
       "    <tr>\n",
       "      <th>4921</th>\n",
       "      <td>how much can any one person do, anyway?</td>\n",
       "      <td>0</td>\n",
       "      <td>58.709293</td>\n",
       "    </tr>\n",
       "    <tr>\n",
       "      <th>5676</th>\n",
       "      <td>ANY ONE WHO DOES THAT TO A ANIMAL NEEDS TO BE ...</td>\n",
       "      <td>0</td>\n",
       "      <td>62.832977</td>\n",
       "    </tr>\n",
       "    <tr>\n",
       "      <th>32524</th>\n",
       "      <td>are you even still in school?</td>\n",
       "      <td>0</td>\n",
       "      <td>57.336716</td>\n",
       "    </tr>\n",
       "    <tr>\n",
       "      <th>20566</th>\n",
       "      <td>Ok - I couldn't find a match for your lyrics -...</td>\n",
       "      <td>0</td>\n",
       "      <td>34.632671</td>\n",
       "    </tr>\n",
       "  </tbody>\n",
       "</table>\n",
       "</div>"
      ],
      "text/plain": [
       "                                                    text  label     scores\n",
       "48097                           No, I did not know that!      1  16.243011\n",
       "4921             how much can any one person do, anyway?      0  58.709293\n",
       "5676   ANY ONE WHO DOES THAT TO A ANIMAL NEEDS TO BE ...      0  62.832977\n",
       "32524                      are you even still in school?      0  57.336716\n",
       "20566  Ok - I couldn't find a match for your lyrics -...      0  34.632671"
      ]
     },
     "execution_count": 22,
     "metadata": {},
     "output_type": "execute_result"
    }
   ],
   "source": [
    "df[df['scores'] < 80].sample(5)"
   ]
  },
  {
   "cell_type": "code",
   "execution_count": 55,
   "id": "87c0398e",
   "metadata": {},
   "outputs": [],
   "source": [
    "from nltk.tokenize import sent_tokenize\n",
    "\n",
    "def GPT2_Sentence_Scorer(text):\n",
    "    scores = []\n",
    "    sentences = sent_tokenize(text)\n",
    "    for sent in sentences:\n",
    "        scores.append((score(tokenizer.encode(sent, add_special_tokens=False, return_tensors=\"pt\")), sent))\n",
    "    return scores"
   ]
  },
  {
   "cell_type": "code",
   "execution_count": 60,
   "id": "f61638e4",
   "metadata": {},
   "outputs": [],
   "source": [
    "hi = GPT2_Sentence_Scorer(\"We made a mistake and sent you the wrong payment information in the last email. So please refer to the attached file in this email for our correct information. We want to apologize for any inconvenience our mistake caused you. We understand that it is really unprofessional of us and guarantee it will not happen again in the future. To make this up for you, please accept a [discount percentage] voucher for your next purchase on our website as our deepest apology. Thank you for your understanding.\")"
   ]
  },
  {
   "cell_type": "code",
   "execution_count": 61,
   "id": "a88f3490",
   "metadata": {},
   "outputs": [
    {
     "data": {
      "text/plain": [
       "[(49.353928,\n",
       "  'We made a mistake and sent you the wrong payment information in the last email.'),\n",
       " (57.92725,\n",
       "  'So please refer to the attached file in this email for our correct information.'),\n",
       " (19.922161,\n",
       "  'We want to apologize for any inconvenience our mistake caused you.'),\n",
       " (25.183317,\n",
       "  'We understand that it is really unprofessional of us and guarantee it will not happen again in the future.'),\n",
       " (72.01322,\n",
       "  'To make this up for you, please accept a [discount percentage] voucher for your next purchase on our website as our deepest apology.'),\n",
       " (9.023671, 'Thank you for your understanding.')]"
      ]
     },
     "execution_count": 61,
     "metadata": {},
     "output_type": "execute_result"
    }
   ],
   "source": [
    "hi"
   ]
  },
  {
   "cell_type": "code",
   "execution_count": 16,
   "id": "e85025d9",
   "metadata": {},
   "outputs": [
    {
     "name": "stdout",
     "output_type": "stream",
     "text": [
      "\u001b[2;31;43m CHEESY \u001b[0;0m\n"
     ]
    }
   ],
   "source": [
    "print('\\033[2;31;43m CHEESY \\033[0;0m')"
   ]
  },
  {
   "cell_type": "code",
   "execution_count": 25,
   "id": "9159747d",
   "metadata": {},
   "outputs": [],
   "source": [
    "from nltk.corpus import reuters"
   ]
  },
  {
   "cell_type": "code",
   "execution_count": 35,
   "id": "a54ee8aa",
   "metadata": {},
   "outputs": [
    {
     "data": {
      "text/plain": [
       "[['ASIAN', 'EXPORTERS', 'FEAR', 'DAMAGE', 'FROM', 'U', '.', 'S', '.-', 'JAPAN', 'RIFT', 'Mounting', 'trade', 'friction', 'between', 'the', 'U', '.', 'S', '.', 'And', 'Japan', 'has', 'raised', 'fears', 'among', 'many', 'of', 'Asia', \"'\", 's', 'exporting', 'nations', 'that', 'the', 'row', 'could', 'inflict', 'far', '-', 'reaching', 'economic', 'damage', ',', 'businessmen', 'and', 'officials', 'said', '.'], ['They', 'told', 'Reuter', 'correspondents', 'in', 'Asian', 'capitals', 'a', 'U', '.', 'S', '.', 'Move', 'against', 'Japan', 'might', 'boost', 'protectionist', 'sentiment', 'in', 'the', 'U', '.', 'S', '.', 'And', 'lead', 'to', 'curbs', 'on', 'American', 'imports', 'of', 'their', 'products', '.'], ...]"
      ]
     },
     "execution_count": 35,
     "metadata": {},
     "output_type": "execute_result"
    }
   ],
   "source": [
    "reuters.sents()"
   ]
  },
  {
   "cell_type": "code",
   "execution_count": 36,
   "id": "008ae0d9",
   "metadata": {},
   "outputs": [
    {
     "name": "stdout",
     "output_type": "stream",
     "text": [
      "ASIAN EXPORTERS FEAR DAMAGE FROM U . S .- JAPAN RIFT Mounting trade friction between the U . S . And Japan has raised fears among many of Asia ' s exporting nations that the row could inflict far - reaching economic damage , businessmen and officials said .\n",
      "They told Reuter correspondents in Asian capitals a U . S . Move against Japan might boost protectionist sentiment in the U . S . And lead to curbs on American imports of their products .\n",
      "But some exporters said that while the conflict would hurt them in the long - run , in the short - term Tokyo ' s loss might be their gain .\n",
      "The U . S . Has said it will impose 300 mln dlrs of tariffs on imports of Japanese electronics goods on April 17 , in retaliation for Japan ' s alleged failure to stick to a pact not to sell semiconductors on world markets at below cost .\n",
      "Unofficial Japanese estimates put the impact of the tariffs at 10 billion dlrs and spokesmen for major electronics firms said they would virtually halt exports of products hit by the new taxes .\n",
      "\" We wouldn ' t be able to do business ,\" said a spokesman for leading Japanese electronics firm Matsushita Electric Industrial Co Ltd & lt ; MC . T >.\n",
      "\" If the tariffs remain in place for any length of time beyond a few months it will mean the complete erosion of exports ( of goods subject to tariffs ) to the U . S .,\" said Tom Murtha , a stock analyst at the Tokyo office of broker & lt ; James Capel and Co >.\n",
      "In Taiwan , businessmen and officials are also worried .\n",
      "\" We are aware of the seriousness of the U . S .\n",
      "Threat against Japan because it serves as a warning to us ,\" said a senior Taiwanese trade official who asked not to be named .\n"
     ]
    }
   ],
   "source": [
    "for sent in reuters.sents()[:10]:\n",
    "    print(' '.join(sent))"
   ]
  },
  {
   "cell_type": "code",
   "execution_count": null,
   "id": "1e9d1088",
   "metadata": {},
   "outputs": [],
   "source": [
    "#3 datasets reuters, OANC and conversational"
   ]
  }
 ],
 "metadata": {
  "kernelspec": {
   "display_name": "Python 3 (ipykernel)",
   "language": "python",
   "name": "python3"
  },
  "language_info": {
   "codemirror_mode": {
    "name": "ipython",
    "version": 3
   },
   "file_extension": ".py",
   "mimetype": "text/x-python",
   "name": "python",
   "nbconvert_exporter": "python",
   "pygments_lexer": "ipython3",
   "version": "3.8.8"
  }
 },
 "nbformat": 4,
 "nbformat_minor": 5
}
