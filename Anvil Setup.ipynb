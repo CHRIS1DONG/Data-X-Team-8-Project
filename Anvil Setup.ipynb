{
 "cells": [
  {
   "cell_type": "markdown",
   "id": "0e40b740",
   "metadata": {},
   "source": [
    "### Basic Grammar Checker from GingerIt"
   ]
  },
  {
   "cell_type": "code",
   "execution_count": 1,
   "id": "7b817900",
   "metadata": {},
   "outputs": [],
   "source": [
    "from gingerit.gingerit import GingerIt"
   ]
  },
  {
   "cell_type": "code",
   "execution_count": 2,
   "id": "cf07e698",
   "metadata": {},
   "outputs": [
    {
     "data": {
      "text/plain": [
       "{'text': 'I is glad to has good frends like you',\n",
       " 'result': 'I am glad to have good friends like you',\n",
       " 'corrections': [{'start': 22,\n",
       "   'text': 'frends',\n",
       "   'correct': 'friends',\n",
       "   'definition': 'a person you know well and regard with affection and trust'},\n",
       "  {'start': 13, 'text': 'has', 'correct': 'have', 'definition': None},\n",
       "  {'start': 2, 'text': 'is', 'correct': 'am', 'definition': None}]}"
      ]
     },
     "execution_count": 2,
     "metadata": {},
     "output_type": "execute_result"
    }
   ],
   "source": [
    "text = 'The smelt of fliwers bring back memories.'\n",
    "\n",
    "parser = GingerIt()\n",
    "text_ = parser.parse(text)\n",
    "text_['result']\n",
    "parser.parse('I is glad to has good frends like you')"
   ]
  },
  {
   "cell_type": "markdown",
   "id": "3185cc6e",
   "metadata": {},
   "source": [
    "### Formality Classifier (Work in Progress)"
   ]
  },
  {
   "cell_type": "code",
   "execution_count": 3,
   "id": "f0e3d6bf",
   "metadata": {},
   "outputs": [
    {
     "name": "stderr",
     "output_type": "stream",
     "text": [
      "[nltk_data] Downloading package stopwords to\n",
      "[nltk_data]     C:\\Users\\Steve\\AppData\\Roaming\\nltk_data...\n",
      "[nltk_data]   Package stopwords is already up-to-date!\n",
      "[nltk_data] Downloading package wordnet to\n",
      "[nltk_data]     C:\\Users\\Steve\\AppData\\Roaming\\nltk_data...\n",
      "[nltk_data]   Package wordnet is already up-to-date!\n"
     ]
    }
   ],
   "source": [
    "import pandas as pd\n",
    "import numpy as np\n",
    "from sklearn.model_selection import train_test_split\n",
    "from nltk.corpus import stopwords\n",
    "from nltk.stem import WordNetLemmatizer\n",
    "import nltk\n",
    "import re\n",
    "nltk.download('stopwords')\n",
    "nltk.download('wordnet')\n",
    "\n",
    "# Reading in the csv as a dataframe\n",
    "df = pd.read_csv('formal_informal_data.csv', encoding = \"utf-8\")"
   ]
  },
  {
   "cell_type": "code",
   "execution_count": 4,
   "id": "308c6ec4",
   "metadata": {},
   "outputs": [
    {
     "data": {
      "text/html": [
       "<div>\n",
       "<style scoped>\n",
       "    .dataframe tbody tr th:only-of-type {\n",
       "        vertical-align: middle;\n",
       "    }\n",
       "\n",
       "    .dataframe tbody tr th {\n",
       "        vertical-align: top;\n",
       "    }\n",
       "\n",
       "    .dataframe thead th {\n",
       "        text-align: right;\n",
       "    }\n",
       "</style>\n",
       "<table border=\"1\" class=\"dataframe\">\n",
       "  <thead>\n",
       "    <tr style=\"text-align: right;\">\n",
       "      <th></th>\n",
       "      <th>text</th>\n",
       "      <th>label</th>\n",
       "    </tr>\n",
       "  </thead>\n",
       "  <tbody>\n",
       "    <tr>\n",
       "      <th>0</th>\n",
       "      <td>please don't give room for the devil.</td>\n",
       "      <td>0</td>\n",
       "    </tr>\n",
       "    <tr>\n",
       "      <th>1</th>\n",
       "      <td>in a public place, tell her to get on her knee.</td>\n",
       "      <td>1</td>\n",
       "    </tr>\n",
       "    <tr>\n",
       "      <th>2</th>\n",
       "      <td>MOVE ON...many more options out there</td>\n",
       "      <td>1</td>\n",
       "    </tr>\n",
       "    <tr>\n",
       "      <th>3</th>\n",
       "      <td>They like American and European guys.</td>\n",
       "      <td>1</td>\n",
       "    </tr>\n",
       "    <tr>\n",
       "      <th>4</th>\n",
       "      <td>Umm i want to know i f ill have a bf this year...</td>\n",
       "      <td>1</td>\n",
       "    </tr>\n",
       "  </tbody>\n",
       "</table>\n",
       "</div>"
      ],
      "text/plain": [
       "                                                text  label\n",
       "0              please don't give room for the devil.      0\n",
       "1    in a public place, tell her to get on her knee.      1\n",
       "2              MOVE ON...many more options out there      1\n",
       "3              They like American and European guys.      1\n",
       "4  Umm i want to know i f ill have a bf this year...      1"
      ]
     },
     "execution_count": 4,
     "metadata": {},
     "output_type": "execute_result"
    }
   ],
   "source": [
    "df.head()"
   ]
  },
  {
   "cell_type": "code",
   "execution_count": 5,
   "id": "35087bf2",
   "metadata": {},
   "outputs": [],
   "source": [
    "df['text'] = df['text'].astype(str)"
   ]
  },
  {
   "cell_type": "code",
   "execution_count": 6,
   "id": "e5102caf",
   "metadata": {},
   "outputs": [
    {
     "data": {
      "text/plain": [
       "0                    please don't give room for the devil.\n",
       "1          in a public place, tell her to get on her knee.\n",
       "2                    MOVE ON...many more options out there\n",
       "3                    They like American and European guys.\n",
       "4        Umm i want to know i f ill have a bf this year...\n",
       "                               ...                        \n",
       "49995    I know it sounds like a formula but girls are ...\n",
       "49996           Women like bodies just as much as guys do.\n",
       "49997             If that were me I would get mad as hell.\n",
       "49998             We're not best friends, but anyway......\n",
       "49999             yahoo personals is good, so is match.com\n",
       "Name: text, Length: 50000, dtype: object"
      ]
     },
     "execution_count": 6,
     "metadata": {},
     "output_type": "execute_result"
    }
   ],
   "source": [
    "df['text']"
   ]
  },
  {
   "cell_type": "code",
   "execution_count": 7,
   "id": "fbc31105",
   "metadata": {},
   "outputs": [],
   "source": [
    "# Basic Text Cleaning\n",
    "stop_words = stopwords.words('english')\n",
    "\n",
    "# Removing apostrophes so contractions are considered a single token\n",
    "df['clean_text'] = df['text'].apply(lambda x: re.sub(\"'\", '', x))\n",
    "\n",
    "# Remove punctuation and stop words and lowercase the text\n",
    "df['clean_text'] = df['clean_text'].apply(lambda x: ' '.join(re.sub(\n",
    "    r'[^a-zA-Z]',' ',w).lower() for w in x.split() if re.sub(r'[^a-zA-Z]',' ',w).lower() not in stop_words))"
   ]
  },
  {
   "cell_type": "code",
   "execution_count": 8,
   "id": "24f5598c",
   "metadata": {},
   "outputs": [],
   "source": [
    "lemmatizer = WordNetLemmatizer()\n",
    "df['clean_text'] = df['clean_text'].apply(lambda x: ' '.join(lemmatizer.lemmatize(w) for w in x.split()))"
   ]
  },
  {
   "cell_type": "code",
   "execution_count": 9,
   "id": "0e815d69",
   "metadata": {},
   "outputs": [],
   "source": [
    "# Split the data into a training and test set for H2O\n",
    "train, test = train_test_split(df, test_size=0.15, random_state = 123)"
   ]
  },
  {
   "cell_type": "code",
   "execution_count": 10,
   "id": "7ebb313a",
   "metadata": {},
   "outputs": [],
   "source": [
    "# Vectorize each tweet using Tf-Idf\n",
    "from sklearn.feature_extraction.text import TfidfVectorizer\n",
    "\n",
    "# Instantiate a Tf-Idf vectorizer that uses words as features if they occur at\n",
    "# least 3 times in the corpus and include bigrams\n",
    "vectorizer = TfidfVectorizer(ngram_range = (1, 2)) \n",
    "\n",
    "# Fit the vectorizer to the cleaned training data\n",
    "vectorizer.fit(train['clean_text'])\n",
    "\n",
    "# Vectorize the text for both the training and testing set\n",
    "tfidf_train = vectorizer.transform(train['clean_text'])\n",
    "tfidf_test  = vectorizer.transform(test['clean_text'])"
   ]
  },
  {
   "cell_type": "code",
   "execution_count": 11,
   "id": "b2a6f210",
   "metadata": {},
   "outputs": [
    {
     "name": "stdout",
     "output_type": "stream",
     "text": [
      "Random Forest labeling accuracy: 36.19\n"
     ]
    }
   ],
   "source": [
    "# Train/use a Random Forest forest model for classification\n",
    "from sklearn.ensemble import RandomForestClassifier\n",
    "\n",
    "# Instantiate a model with 500 trees\n",
    "rfc = RandomForestClassifier(n_estimators=1, random_state = 123)\n",
    "\n",
    "# Fit to the training data\n",
    "rfc = rfc.fit(tfidf_train, train['label'])\n",
    "\n",
    "# Test the accuracy of the model on the testing data\n",
    "test_set_acc = rfc.score(tfidf_test, test['label'])\n",
    "\n",
    "print(f'Random Forest labeling accuracy: {str(round(test_set_acc*100,2))}')"
   ]
  },
  {
   "cell_type": "code",
   "execution_count": 12,
   "id": "3956cb94",
   "metadata": {},
   "outputs": [
    {
     "data": {
      "text/plain": [
       "Text(0.5, 1.0, 'Relative Importance of Features')"
      ]
     },
     "execution_count": 12,
     "metadata": {},
     "output_type": "execute_result"
    },
    {
     "data": {
      "image/png": "[encoded data removed]",
      "text/plain": [
       "<Figure size 432x288 with 1 Axes>"
      ]
     },
     "metadata": {
      "needs_background": "light"
     },
     "output_type": "display_data"
    }
   ],
   "source": [
    "import matplotlib.pyplot as plt\n",
    "\n",
    "# Convert vectors back to words to plot variable importance\n",
    "ft_importances = pd.Series(rfc.feature_importances_, index=vectorizer.get_feature_names())\n",
    "ft_importances.nlargest(15).sort_values().plot(kind='barh')\n",
    "plt.xticks(fontsize=10)\n",
    "plt.yticks(fontsize=12)\n",
    "plt.title(\"Relative Importance of Features\",fontsize = 14)"
   ]
  },
  {
   "cell_type": "code",
   "execution_count": 16,
   "id": "63f73dbc",
   "metadata": {},
   "outputs": [
    {
     "ename": "KeyboardInterrupt",
     "evalue": "",
     "output_type": "error",
     "traceback": [
      "\u001b[1;31m---------------------------------------------------------------------------\u001b[0m",
      "\u001b[1;31mKeyboardInterrupt\u001b[0m                         Traceback (most recent call last)",
      "\u001b[1;32m~\\AppData\\Local\\Temp/ipykernel_25208/756270422.py\u001b[0m in \u001b[0;36m<module>\u001b[1;34m\u001b[0m\n\u001b[0;32m     22\u001b[0m     \u001b[1;32melse\u001b[0m\u001b[1;33m:\u001b[0m\u001b[1;33m\u001b[0m\u001b[1;33m\u001b[0m\u001b[0m\n\u001b[0;32m     23\u001b[0m         \u001b[1;32mreturn\u001b[0m \u001b[1;34m'Formal'\u001b[0m\u001b[1;33m\u001b[0m\u001b[1;33m\u001b[0m\u001b[0m\n\u001b[1;32m---> 24\u001b[1;33m \u001b[0manvil\u001b[0m\u001b[1;33m.\u001b[0m\u001b[0mserver\u001b[0m\u001b[1;33m.\u001b[0m\u001b[0mwait_forever\u001b[0m\u001b[1;33m(\u001b[0m\u001b[1;33m)\u001b[0m\u001b[1;33m\u001b[0m\u001b[1;33m\u001b[0m\u001b[0m\n\u001b[0m",
      "\u001b[1;32m~\\AppData\\Local\\Continuum\\anaconda3\\envs\\anlp\\lib\\site-packages\\anvil\\server.py\u001b[0m in \u001b[0;36mwait_forever\u001b[1;34m()\u001b[0m\n\u001b[0;32m    425\u001b[0m     \u001b[0m_get_connection\u001b[0m\u001b[1;33m(\u001b[0m\u001b[1;33m)\u001b[0m\u001b[1;33m\u001b[0m\u001b[1;33m\u001b[0m\u001b[0m\n\u001b[0;32m    426\u001b[0m     \u001b[1;32mwhile\u001b[0m \u001b[1;32mTrue\u001b[0m\u001b[1;33m:\u001b[0m\u001b[1;33m\u001b[0m\u001b[1;33m\u001b[0m\u001b[0m\n\u001b[1;32m--> 427\u001b[1;33m         \u001b[0mtime\u001b[0m\u001b[1;33m.\u001b[0m\u001b[0msleep\u001b[0m\u001b[1;33m(\u001b[0m\u001b[1;36m1\u001b[0m\u001b[1;33m)\u001b[0m\u001b[1;33m\u001b[0m\u001b[1;33m\u001b[0m\u001b[0m\n\u001b[0m",
      "\u001b[1;31mKeyboardInterrupt\u001b[0m: "
     ]
    }
   ],
   "source": [
    "import anvil.server\n",
    "\n",
    "anvil.server.connect(\"Y3HQ5TAQWVK6YEZGBOWO7SZK-YL7IQYP2GJT7MXNS\")\n",
    "\n",
    "@anvil.server.callable\n",
    "def grammar_checker(text):\n",
    "    if parser.parse(text)['corrections']:\n",
    "        return parser.parse(text)['result']\n",
    "    else:\n",
    "        return 'No corrections needed.'\n",
    "    \n",
    "@anvil.server.callable    \n",
    "def formality_checker(text):\n",
    "    text = re.sub(\"'\", '', text)\n",
    "    text = ' '.join(re.sub(\n",
    "    r'[^a-zA-Z]',' ',w).lower() for w in text.split() if re.sub(r'[^a-zA-Z]',' ',w).lower() not in stop_words)\n",
    "    text = ' '.join(lemmatizer.lemmatize(w) for w in text.split())\n",
    "    vector = vectorizer.transform([text])\n",
    "    ynew = rfc.predict(vector)\n",
    "    if ynew[0] == 1:\n",
    "        return 'Informal'\n",
    "    else:\n",
    "        return 'Formal'\n",
    "anvil.server.wait_forever()"
   ]
  },
  {
   "cell_type": "code",
   "execution_count": null,
   "id": "e6ec88ed",
   "metadata": {},
   "outputs": [],
   "source": []
  }
 ],
 "metadata": {
  "kernelspec": {
   "display_name": "Python 3 (ipykernel)",
   "language": "python",
   "name": "python3"
  },
  "language_info": {
   "codemirror_mode": {
    "name": "ipython",
    "version": 3
   },
   "file_extension": ".py",
   "mimetype": "text/x-python",
   "name": "python",
   "nbconvert_exporter": "python",
   "pygments_lexer": "ipython3",
   "version": "3.8.8"
  }
 },
 "nbformat": 4,
 "nbformat_minor": 5
}
