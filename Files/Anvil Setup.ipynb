{
 "cells": [
  {
   "cell_type": "markdown",
   "id": "0e40b740",
   "metadata": {},
   "source": [
    "### Basic Grammar Checker from GingerIt"
   ]
  },
  {
   "cell_type": "code",
   "execution_count": 1,
   "id": "7b817900",
   "metadata": {},
   "outputs": [],
   "source": [
    "from gingerit.gingerit import GingerIt"
   ]
  },
  {
   "cell_type": "code",
   "execution_count": 2,
   "id": "cf07e698",
   "metadata": {},
   "outputs": [
    {
     "data": {
      "text/plain": [
       "{'text': 'I is glad to has good frends like you',\n",
       " 'result': 'I am glad to have good friends like you',\n",
       " 'corrections': [{'start': 22,\n",
       "   'text': 'frends',\n",
       "   'correct': 'friends',\n",
       "   'definition': 'a person you know well and regard with affection and trust'},\n",
       "  {'start': 13, 'text': 'has', 'correct': 'have', 'definition': None},\n",
       "  {'start': 2, 'text': 'is', 'correct': 'am', 'definition': None}]}"
      ]
     },
     "execution_count": 2,
     "metadata": {},
     "output_type": "execute_result"
    }
   ],
   "source": [
    "text = 'The smelt of fliwers bring back memories.'\n",
    "\n",
    "parser = GingerIt()\n",
    "text_ = parser.parse(text)\n",
    "text_['result']\n",
    "parser.parse('I is glad to has good frends like you')"
   ]
  },
  {
   "cell_type": "markdown",
   "id": "3185cc6e",
   "metadata": {},
   "source": [
    "### Formality Classifier (Work in Progress)"
   ]
  },
  {
   "cell_type": "code",
   "execution_count": 3,
   "id": "f0e3d6bf",
   "metadata": {},
   "outputs": [
    {
     "name": "stderr",
     "output_type": "stream",
     "text": [
      "[nltk_data] Downloading package stopwords to\n",
      "[nltk_data]     C:\\Users\\Steve\\AppData\\Roaming\\nltk_data...\n",
      "[nltk_data]   Package stopwords is already up-to-date!\n",
      "[nltk_data] Downloading package wordnet to\n",
      "[nltk_data]     C:\\Users\\Steve\\AppData\\Roaming\\nltk_data...\n",
      "[nltk_data]   Package wordnet is already up-to-date!\n"
     ]
    }
   ],
   "source": [
    "import pandas as pd\n",
    "import numpy as np\n",
    "from sklearn.model_selection import train_test_split\n",
    "from nltk.corpus import stopwords\n",
    "from nltk.stem import WordNetLemmatizer\n",
    "import nltk\n",
    "import re\n",
    "import time\n",
    "nltk.download('stopwords')\n",
    "nltk.download('wordnet')\n",
    "\n",
    "# Reading in the csv as a dataframe\n",
    "df = pd.read_csv('formal_informal_data.csv', encoding = \"utf-8\")"
   ]
  },
  {
   "cell_type": "code",
   "execution_count": 4,
   "id": "308c6ec4",
   "metadata": {},
   "outputs": [
    {
     "data": {
      "text/html": [
       "<div>\n",
       "<style scoped>\n",
       "    .dataframe tbody tr th:only-of-type {\n",
       "        vertical-align: middle;\n",
       "    }\n",
       "\n",
       "    .dataframe tbody tr th {\n",
       "        vertical-align: top;\n",
       "    }\n",
       "\n",
       "    .dataframe thead th {\n",
       "        text-align: right;\n",
       "    }\n",
       "</style>\n",
       "<table border=\"1\" class=\"dataframe\">\n",
       "  <thead>\n",
       "    <tr style=\"text-align: right;\">\n",
       "      <th></th>\n",
       "      <th>text</th>\n",
       "      <th>label</th>\n",
       "    </tr>\n",
       "  </thead>\n",
       "  <tbody>\n",
       "    <tr>\n",
       "      <th>0</th>\n",
       "      <td>When guys wear boxers, they look like little b...</td>\n",
       "      <td>1</td>\n",
       "    </tr>\n",
       "    <tr>\n",
       "      <th>1</th>\n",
       "      <td>not asking just tempting to see if he goes for...</td>\n",
       "      <td>1</td>\n",
       "    </tr>\n",
       "    <tr>\n",
       "      <th>2</th>\n",
       "      <td>most -14feb 25th dec and 15th june  least-apri...</td>\n",
       "      <td>1</td>\n",
       "    </tr>\n",
       "    <tr>\n",
       "      <th>3</th>\n",
       "      <td>Is it too difficult to say GOOD BYE to somebod...</td>\n",
       "      <td>0</td>\n",
       "    </tr>\n",
       "    <tr>\n",
       "      <th>4</th>\n",
       "      <td>busting his balls and his friends balls.</td>\n",
       "      <td>1</td>\n",
       "    </tr>\n",
       "  </tbody>\n",
       "</table>\n",
       "</div>"
      ],
      "text/plain": [
       "                                                text  label\n",
       "0  When guys wear boxers, they look like little b...      1\n",
       "1  not asking just tempting to see if he goes for...      1\n",
       "2  most -14feb 25th dec and 15th june  least-apri...      1\n",
       "3  Is it too difficult to say GOOD BYE to somebod...      0\n",
       "4           busting his balls and his friends balls.      1"
      ]
     },
     "execution_count": 4,
     "metadata": {},
     "output_type": "execute_result"
    }
   ],
   "source": [
    "df.head()"
   ]
  },
  {
   "cell_type": "code",
   "execution_count": 5,
   "id": "35087bf2",
   "metadata": {},
   "outputs": [],
   "source": [
    "df['text'] = df['text'].astype(str)"
   ]
  },
  {
   "cell_type": "code",
   "execution_count": 6,
   "id": "e5102caf",
   "metadata": {},
   "outputs": [
    {
     "data": {
      "text/plain": [
       "0        When guys wear boxers, they look like little b...\n",
       "1        not asking just tempting to see if he goes for...\n",
       "2        most -14feb 25th dec and 15th june  least-apri...\n",
       "3        Is it too difficult to say GOOD BYE to somebod...\n",
       "4                 busting his balls and his friends balls.\n",
       "                               ...                        \n",
       "49995              Women donot think about gay men at all.\n",
       "49996    Having bigger breasts might be cool for the bo...\n",
       "49997                    Did you ask her why she did that?\n",
       "49998    IF YOU THINK LIFE IS SO DIFFICULT RIGHT NOW, M...\n",
       "49999    LOOKING FOR THE SAME THING THAT LED YOU TO THE...\n",
       "Name: text, Length: 50000, dtype: object"
      ]
     },
     "execution_count": 6,
     "metadata": {},
     "output_type": "execute_result"
    }
   ],
   "source": [
    "df['text']"
   ]
  },
  {
   "cell_type": "code",
   "execution_count": 7,
   "id": "fbc31105",
   "metadata": {},
   "outputs": [],
   "source": [
    "# Basic Text Cleaning\n",
    "stop_words = stopwords.words('english')\n",
    "\n",
    "# Removing apostrophes so contractions are considered a single token\n",
    "df['clean_text'] = df['text'].apply(lambda x: re.sub(\"'\", '', x))\n",
    "\n",
    "# Remove punctuation and stop words and lowercase the text\n",
    "df['clean_text'] = df['clean_text'].apply(lambda x: ' '.join(re.sub(\n",
    "    r'[^a-zA-Z]',' ',w).lower() for w in x.split() if re.sub(r'[^a-zA-Z]',' ',w).lower() not in stop_words))"
   ]
  },
  {
   "cell_type": "code",
   "execution_count": 8,
   "id": "24f5598c",
   "metadata": {},
   "outputs": [],
   "source": [
    "lemmatizer = WordNetLemmatizer()\n",
    "df['clean_text'] = df['clean_text'].apply(lambda x: ' '.join(lemmatizer.lemmatize(w) for w in x.split()))"
   ]
  },
  {
   "cell_type": "code",
   "execution_count": 9,
   "id": "0e815d69",
   "metadata": {},
   "outputs": [],
   "source": [
    "# Split the data into a training and test set for H2O\n",
    "train, test = train_test_split(df, test_size=0.15, random_state = 123)"
   ]
  },
  {
   "cell_type": "code",
   "execution_count": 10,
   "id": "7ebb313a",
   "metadata": {},
   "outputs": [],
   "source": [
    "# Vectorize each tweet using Tf-Idf\n",
    "from sklearn.feature_extraction.text import TfidfVectorizer\n",
    "\n",
    "# Instantiate a Tf-Idf vectorizer that uses words as features if they occur at\n",
    "# least 3 times in the corpus and include bigrams\n",
    "vectorizer = TfidfVectorizer(ngram_range = (1, 2)) \n",
    "\n",
    "# Fit the vectorizer to the cleaned training data\n",
    "vectorizer.fit(train['clean_text'])\n",
    "\n",
    "# Vectorize the text for both the training and testing set\n",
    "tfidf_train = vectorizer.transform(train['clean_text'])\n",
    "tfidf_test  = vectorizer.transform(test['clean_text'])"
   ]
  },
  {
   "cell_type": "code",
   "execution_count": 11,
   "id": "b2a6f210",
   "metadata": {},
   "outputs": [
    {
     "name": "stdout",
     "output_type": "stream",
     "text": [
      "Random Forest labeling accuracy: 37.99\n"
     ]
    }
   ],
   "source": [
    "# Train/use a Random Forest forest model for classification\n",
    "from sklearn.ensemble import RandomForestClassifier\n",
    "\n",
    "# Instantiate a model with 500 trees\n",
    "rfc = RandomForestClassifier(n_estimators=1, random_state = 123)\n",
    "\n",
    "# Fit to the training data\n",
    "rfc = rfc.fit(tfidf_train, train['label'])\n",
    "\n",
    "# Test the accuracy of the model on the testing data\n",
    "test_set_acc = rfc.score(tfidf_test, test['label'])\n",
    "\n",
    "print(f'Random Forest labeling accuracy: {str(round(test_set_acc*100,2))}')"
   ]
  },
  {
   "cell_type": "code",
   "execution_count": 12,
   "id": "3956cb94",
   "metadata": {},
   "outputs": [
    {
     "data": {
      "text/plain": [
       "Text(0.5, 1.0, 'Relative Importance of Features')"
      ]
     },
     "execution_count": 12,
     "metadata": {},
     "output_type": "execute_result"
    },
    {
     "data": {
      "image/png": "[encoded data removed]",
      "text/plain": [
       "<Figure size 432x288 with 1 Axes>"
      ]
     },
     "metadata": {
      "needs_background": "light"
     },
     "output_type": "display_data"
    }
   ],
   "source": [
    "import matplotlib.pyplot as plt\n",
    "\n",
    "# Convert vectors back to words to plot variable importance\n",
    "ft_importances = pd.Series(rfc.feature_importances_, index=vectorizer.get_feature_names())\n",
    "ft_importances.nlargest(15).sort_values().plot(kind='barh')\n",
    "plt.xticks(fontsize=10)\n",
    "plt.yticks(fontsize=12)\n",
    "plt.title(\"Relative Importance of Features\",fontsize = 14)"
   ]
  },
  {
   "cell_type": "markdown",
   "id": "ca174d0f",
   "metadata": {},
   "source": [
    "## Sentence Level Probability"
   ]
  },
  {
   "cell_type": "code",
   "execution_count": 13,
   "id": "233f08d5",
   "metadata": {},
   "outputs": [],
   "source": [
    "from transformers import GPT2LMHeadModel, GPT2Tokenizer\n",
    "from nltk.tokenize import sent_tokenize\n",
    "\n",
    "model = GPT2LMHeadModel.from_pretrained('gpt2')\n",
    "tokenizer = GPT2Tokenizer.from_pretrained('gpt2')"
   ]
  },
  {
   "cell_type": "code",
   "execution_count": 14,
   "id": "1a787cc7",
   "metadata": {},
   "outputs": [],
   "source": [
    "def score(tokens_tensor):\n",
    "    loss=model(tokens_tensor, labels=tokens_tensor)[0]\n",
    "    return np.exp(loss.cpu().detach().numpy())\n",
    "\n",
    "def GPT2_Sentence_Scorer(text):\n",
    "    scores = []\n",
    "    sentences = sent_tokenize(text)\n",
    "    for sent in sentences:\n",
    "        scores.append((score(tokenizer.encode(sent, add_special_tokens=False, return_tensors=\"pt\")), sent))\n",
    "    return scores"
   ]
  },
  {
   "cell_type": "markdown",
   "id": "ec5cb6b4",
   "metadata": {},
   "source": [
    "## Translation Models From HuggingFace"
   ]
  },
  {
   "cell_type": "code",
   "execution_count": 15,
   "id": "9810991d",
   "metadata": {},
   "outputs": [],
   "source": [
    "import numpy as np\n",
    "import pandas as pd\n",
    "\n",
    "import json\n",
    "import requests\n",
    "\n",
    "import torch\n",
    "from torch.utils.data import DataLoader\n",
    "from transformers import DistilBertForSequenceClassification\n",
    "from transformers import DistilBertTokenizerFast"
   ]
  },
  {
   "cell_type": "code",
   "execution_count": 16,
   "id": "f1e4ccd9",
   "metadata": {},
   "outputs": [],
   "source": [
    "API_TOKEN=\"api_oMMRDkimUuBHSmsDNophzfNCmbzfimIFRl\"\n",
    "\n",
    "models_dictionary = {'English to Spanish':\"https://api-inference.huggingface.co/models/Helsinki-NLP/opus-mt-en-es\",\n",
    "                    'Spanish to English':\"https://api-inference.huggingface.co/models/Helsinki-NLP/opus-mt-es-en\",\n",
    "                    'English to French':\"https://api-inference.huggingface.co/models/Helsinki-NLP/opus-mt-en-fr\",\n",
    "                    'French to English':\"https://api-inference.huggingface.co/models/Helsinki-NLP/opus-mt-fr-en\",\n",
    "                    'English to Chinese':\"https://api-inference.huggingface.co/models/Helsinki-NLP/opus-mt-en-zh\",\n",
    "                    'Chinese to English':\"https://api-inference.huggingface.co/models/Helsinki-NLP/opus-mt-zh-en\"}\n",
    "\n",
    "def query(payload, API_URL, headers):\n",
    "    data = json.dumps(payload)\n",
    "    response = requests.request(\"POST\", API_URL, headers=headers, data=data)\n",
    "    return json.loads(response.content.decode(\"utf-8\"))"
   ]
  },
  {
   "cell_type": "code",
   "execution_count": null,
   "id": "63f73dbc",
   "metadata": {},
   "outputs": [
    {
     "name": "stdout",
     "output_type": "stream",
     "text": [
      "[(72.63806, 'As you can imagine, the subject line and tactics you should use change accordingly.'), (82.124664, 'So in this post, I’m going to tackle this long ignored topic:  I’m going to show you 27 business email templates and what makes them perform for any campaign you’re running.'), (191.3414, 'You’ll walk away from this knowing exactly what to write in your next message to get opens, clicks and conversions.'), (34.97196, 'Before you skim the templates below and start writing your own please go through the following checklist to ensure you pay attention to the following.'), (670.7987, 'fhewufih huewhif nhfweiu.')]\n"
     ]
    }
   ],
   "source": [
    "import anvil.server\n",
    "\n",
    "anvil.server.connect(\"HT2WEDUNUEDNPCY5IBJIRQUL-7OUNN73B65YOKSCK\")\n",
    "\n",
    "@anvil.server.callable\n",
    "def grammar_checker(text):\n",
    "    if parser.parse(text)['corrections']:\n",
    "        return parser.parse(text)['result']\n",
    "    else:\n",
    "        return 'No corrections needed.'\n",
    "\n",
    "@anvil.server.callable    \n",
    "def formality_checker(text):\n",
    "    text = re.sub(\"'\", '', text)\n",
    "    text = ' '.join(re.sub(\n",
    "    r'[^a-zA-Z]',' ',w).lower() for w in text.split() if re.sub(r'[^a-zA-Z]',' ',w).lower() not in stop_words)\n",
    "    text = ' '.join(lemmatizer.lemmatize(w) for w in text.split())\n",
    "    vector = vectorizer.transform([text])\n",
    "    ynew = rfc.predict(vector)\n",
    "    if ynew[0] == 1:\n",
    "        return 'Informal'\n",
    "    else:\n",
    "        return 'Formal'\n",
    "    \n",
    "@anvil.server.callable\n",
    "def translate(text, language):\n",
    "    headers = {\"Authorization\": f\"Bearer {API_TOKEN}\"}\n",
    "    API_URL = models_dictionary[language]\n",
    "    result = query({\"inputs\":f'{text}',}, API_URL, headers)\n",
    "    while 'error' in result:\n",
    "        time.sleep(20)\n",
    "        result = query({\"inputs\":f'{text}',}, API_URL, headers)\n",
    "        print(result)\n",
    "    return result[0]['translation_text']\n",
    "\n",
    "@anvil.server.callable\n",
    "def nat_sounding(text):\n",
    "    list_of_scores = GPT2_Sentence_Scorer(text)\n",
    "    good, okay, bad = [], [], []\n",
    "    for sent in list_of_scores:\n",
    "        if sent[0] > 100 and sent[0] < 200:\n",
    "            okay.append(sent[1] + '\\n')\n",
    "        elif sent[0] >= 200:\n",
    "            bad.append(sent[1] + '\\n')\n",
    "        else:\n",
    "            good.append(sent[1] + '\\n')\n",
    "    if len(okay) == 0:\n",
    "        okay.append('None')\n",
    "    if len(bad) == 0:\n",
    "        okay.append('None')\n",
    "    print(list_of_scores)\n",
    "    return (good,okay,bad)\n",
    "    \n",
    "anvil.server.wait_forever()"
   ]
  },
  {
   "cell_type": "code",
   "execution_count": null,
   "id": "e6ec88ed",
   "metadata": {},
   "outputs": [],
   "source": []
  }
 ],
 "metadata": {
  "kernelspec": {
   "display_name": "Python 3 (ipykernel)",
   "language": "python",
   "name": "python3"
  },
  "language_info": {
   "codemirror_mode": {
    "name": "ipython",
    "version": 3
   },
   "file_extension": ".py",
   "mimetype": "text/x-python",
   "name": "python",
   "nbconvert_exporter": "python",
   "pygments_lexer": "ipython3",
   "version": "3.8.8"
  }
 },
 "nbformat": 4,
 "nbformat_minor": 5
}
